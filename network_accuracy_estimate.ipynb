{
 "cells": [
  {
   "cell_type": "code",
   "execution_count": 1,
   "metadata": {},
   "outputs": [],
   "source": [
    "%load_ext autoreload\n",
    "%autoreload 2\n"
   ]
  },
  {
   "cell_type": "code",
   "execution_count": 2,
   "metadata": {},
   "outputs": [
    {
     "name": "stdout",
     "output_type": "stream",
     "text": [
      "[[1.37544824e+03 0.00000000e+00 9.50562012e+02]\n",
      " [0.00000000e+00 1.37584045e+03 5.66901917e+02]\n",
      " [0.00000000e+00 0.00000000e+00 1.00000000e+00]]\n"
     ]
    }
   ],
   "source": [
    "import sys\n",
    "sys.path.append(\"src\") # go to parent dir\n",
    "from detect import *\n",
    "from reproject import *\n",
    "import rosbag\n",
    "from sklearn.metrics import mean_squared_error\n",
    "import numpy as np\n",
    "from mpl_toolkits.mplot3d import Axes3D\n",
    "import cv2\n",
    "\n",
    "rospy.init_node(\"sd_jupyter\")\n"
   ]
  },
  {
   "cell_type": "code",
   "execution_count": 3,
   "metadata": {},
   "outputs": [
    {
     "ename": "ValueError",
     "evalue": "cannot reshape array of size 0 into shape (0,newaxis)",
     "output_type": "error",
     "traceback": [
      "\u001b[0;31m---------------------------------------------------------------------------\u001b[0m",
      "\u001b[0;31mValueError\u001b[0m                                Traceback (most recent call last)",
      "\u001b[0;32m<ipython-input-3-41fa68be4585>\u001b[0m in \u001b[0;36m<module>\u001b[0;34m()\u001b[0m\n\u001b[1;32m      5\u001b[0m \u001b[0;31m#bag = rosbag.Bag(\"/home/xuhao/bags/dl_data/swarm_dl_four_drones_2019-08-14-07-49-37.bag\")\u001b[0m\u001b[0;34m\u001b[0m\u001b[0;34m\u001b[0m\u001b[0m\n\u001b[1;32m      6\u001b[0m \u001b[0mposes\u001b[0m\u001b[0;34m,\u001b[0m \u001b[0mcamera\u001b[0m\u001b[0;34m,\u001b[0m \u001b[0mdepths\u001b[0m \u001b[0;34m=\u001b[0m \u001b[0mread_bag\u001b[0m\u001b[0;34m(\u001b[0m\u001b[0mbag\u001b[0m\u001b[0;34m)\u001b[0m\u001b[0;34m\u001b[0m\u001b[0m\n\u001b[0;32m----> 7\u001b[0;31m \u001b[0mdp2\u001b[0m \u001b[0;34m=\u001b[0m \u001b[0mparse_ros_pose_ts\u001b[0m\u001b[0;34m(\u001b[0m\u001b[0mposes\u001b[0m\u001b[0;34m[\u001b[0m\u001b[0;36m2\u001b[0m\u001b[0;34m]\u001b[0m\u001b[0;34m)\u001b[0m\u001b[0;34m\u001b[0m\u001b[0m\n\u001b[0m\u001b[1;32m      8\u001b[0m \u001b[0mdp4\u001b[0m \u001b[0;34m=\u001b[0m \u001b[0mparse_ros_pose_ts\u001b[0m\u001b[0;34m(\u001b[0m\u001b[0mposes\u001b[0m\u001b[0;34m[\u001b[0m\u001b[0;36m4\u001b[0m\u001b[0;34m]\u001b[0m\u001b[0;34m)\u001b[0m\u001b[0;34m\u001b[0m\u001b[0m\n",
      "\u001b[0;32m/home/xuhao/swarm_ws/src/swarm_yolo/src/reproject.pyc\u001b[0m in \u001b[0;36mparse_ros_pose_ts\u001b[0;34m(poses)\u001b[0m\n\u001b[1;32m     55\u001b[0m     \u001b[0md\u001b[0m\u001b[0;34m[\u001b[0m\u001b[0;34m\"quat\"\u001b[0m\u001b[0;34m]\u001b[0m \u001b[0;34m=\u001b[0m \u001b[0mnp\u001b[0m\u001b[0;34m.\u001b[0m\u001b[0marray\u001b[0m\u001b[0;34m(\u001b[0m\u001b[0md\u001b[0m\u001b[0;34m[\u001b[0m\u001b[0;34m\"quat\"\u001b[0m\u001b[0;34m]\u001b[0m\u001b[0;34m)\u001b[0m\u001b[0;34m\u001b[0m\u001b[0m\n\u001b[1;32m     56\u001b[0m     \u001b[0md\u001b[0m\u001b[0;34m[\u001b[0m\u001b[0;34m\"ts\"\u001b[0m\u001b[0;34m]\u001b[0m \u001b[0;34m=\u001b[0m \u001b[0mnp\u001b[0m\u001b[0;34m.\u001b[0m\u001b[0marray\u001b[0m\u001b[0;34m(\u001b[0m\u001b[0md\u001b[0m\u001b[0;34m[\u001b[0m\u001b[0;34m\"ts\"\u001b[0m\u001b[0;34m]\u001b[0m\u001b[0;34m)\u001b[0m\u001b[0;34m\u001b[0m\u001b[0m\n\u001b[0;32m---> 57\u001b[0;31m     \u001b[0md\u001b[0m\u001b[0;34m[\u001b[0m\u001b[0;34m\"pos_func\"\u001b[0m\u001b[0;34m]\u001b[0m \u001b[0;34m=\u001b[0m \u001b[0minterp1d\u001b[0m\u001b[0;34m(\u001b[0m\u001b[0md\u001b[0m\u001b[0;34m[\u001b[0m\u001b[0;34m\"ts\"\u001b[0m\u001b[0;34m]\u001b[0m\u001b[0;34m,\u001b[0m \u001b[0md\u001b[0m\u001b[0;34m[\u001b[0m\u001b[0;34m\"pos\"\u001b[0m\u001b[0;34m]\u001b[0m\u001b[0;34m,\u001b[0m \u001b[0maxis\u001b[0m\u001b[0;34m=\u001b[0m\u001b[0;36m0\u001b[0m\u001b[0;34m)\u001b[0m\u001b[0;34m\u001b[0m\u001b[0m\n\u001b[0m\u001b[1;32m     58\u001b[0m     \u001b[0md\u001b[0m\u001b[0;34m[\u001b[0m\u001b[0;34m\"quat_func\"\u001b[0m\u001b[0;34m]\u001b[0m \u001b[0;34m=\u001b[0m \u001b[0minterp1d\u001b[0m\u001b[0;34m(\u001b[0m\u001b[0md\u001b[0m\u001b[0;34m[\u001b[0m\u001b[0;34m\"ts\"\u001b[0m\u001b[0;34m]\u001b[0m\u001b[0;34m,\u001b[0m \u001b[0md\u001b[0m\u001b[0;34m[\u001b[0m\u001b[0;34m\"quat\"\u001b[0m\u001b[0;34m]\u001b[0m\u001b[0;34m,\u001b[0m \u001b[0maxis\u001b[0m\u001b[0;34m=\u001b[0m\u001b[0;36m0\u001b[0m\u001b[0;34m)\u001b[0m\u001b[0;34m\u001b[0m\u001b[0m\n\u001b[1;32m     59\u001b[0m     \u001b[0;32mreturn\u001b[0m \u001b[0md\u001b[0m\u001b[0;34m\u001b[0m\u001b[0m\n",
      "\u001b[0;32m/home/xuhao/anaconda2/lib/python2.7/site-packages/scipy/interpolate/interpolate.pyc\u001b[0m in \u001b[0;36m__init__\u001b[0;34m(self, x, y, kind, axis, copy, bounds_error, fill_value, assume_sorted)\u001b[0m\n\u001b[1;32m    468\u001b[0m         \u001b[0;31m# Interpolation goes internally along the first axis\u001b[0m\u001b[0;34m\u001b[0m\u001b[0;34m\u001b[0m\u001b[0m\n\u001b[1;32m    469\u001b[0m         \u001b[0mself\u001b[0m\u001b[0;34m.\u001b[0m\u001b[0my\u001b[0m \u001b[0;34m=\u001b[0m \u001b[0my\u001b[0m\u001b[0;34m\u001b[0m\u001b[0m\n\u001b[0;32m--> 470\u001b[0;31m         \u001b[0mself\u001b[0m\u001b[0;34m.\u001b[0m\u001b[0m_y\u001b[0m \u001b[0;34m=\u001b[0m \u001b[0mself\u001b[0m\u001b[0;34m.\u001b[0m\u001b[0m_reshape_yi\u001b[0m\u001b[0;34m(\u001b[0m\u001b[0mself\u001b[0m\u001b[0;34m.\u001b[0m\u001b[0my\u001b[0m\u001b[0;34m)\u001b[0m\u001b[0;34m\u001b[0m\u001b[0m\n\u001b[0m\u001b[1;32m    471\u001b[0m         \u001b[0mself\u001b[0m\u001b[0;34m.\u001b[0m\u001b[0mx\u001b[0m \u001b[0;34m=\u001b[0m \u001b[0mx\u001b[0m\u001b[0;34m\u001b[0m\u001b[0m\n\u001b[1;32m    472\u001b[0m         \u001b[0;32mdel\u001b[0m \u001b[0my\u001b[0m\u001b[0;34m,\u001b[0m \u001b[0mx\u001b[0m  \u001b[0;31m# clean up namespace to prevent misuse; use attributes\u001b[0m\u001b[0;34m\u001b[0m\u001b[0m\n",
      "\u001b[0;32m/home/xuhao/anaconda2/lib/python2.7/site-packages/scipy/interpolate/polyint.pyc\u001b[0m in \u001b[0;36m_reshape_yi\u001b[0;34m(self, yi, check)\u001b[0m\n\u001b[1;32m    109\u001b[0m                                            self._y_extra_shape[:-self._y_axis])\n\u001b[1;32m    110\u001b[0m             \u001b[0;32mraise\u001b[0m \u001b[0mValueError\u001b[0m\u001b[0;34m(\u001b[0m\u001b[0;34m\"Data must be of shape %s\"\u001b[0m \u001b[0;34m%\u001b[0m \u001b[0mok_shape\u001b[0m\u001b[0;34m)\u001b[0m\u001b[0;34m\u001b[0m\u001b[0m\n\u001b[0;32m--> 111\u001b[0;31m         \u001b[0;32mreturn\u001b[0m \u001b[0myi\u001b[0m\u001b[0;34m.\u001b[0m\u001b[0mreshape\u001b[0m\u001b[0;34m(\u001b[0m\u001b[0;34m(\u001b[0m\u001b[0myi\u001b[0m\u001b[0;34m.\u001b[0m\u001b[0mshape\u001b[0m\u001b[0;34m[\u001b[0m\u001b[0;36m0\u001b[0m\u001b[0;34m]\u001b[0m\u001b[0;34m,\u001b[0m \u001b[0;34m-\u001b[0m\u001b[0;36m1\u001b[0m\u001b[0;34m)\u001b[0m\u001b[0;34m)\u001b[0m\u001b[0;34m\u001b[0m\u001b[0m\n\u001b[0m\u001b[1;32m    112\u001b[0m \u001b[0;34m\u001b[0m\u001b[0m\n\u001b[1;32m    113\u001b[0m     \u001b[0;32mdef\u001b[0m \u001b[0m_set_yi\u001b[0m\u001b[0;34m(\u001b[0m\u001b[0mself\u001b[0m\u001b[0;34m,\u001b[0m \u001b[0myi\u001b[0m\u001b[0;34m,\u001b[0m \u001b[0mxi\u001b[0m\u001b[0;34m=\u001b[0m\u001b[0mNone\u001b[0m\u001b[0;34m,\u001b[0m \u001b[0maxis\u001b[0m\u001b[0;34m=\u001b[0m\u001b[0mNone\u001b[0m\u001b[0;34m)\u001b[0m\u001b[0;34m:\u001b[0m\u001b[0;34m\u001b[0m\u001b[0m\n",
      "\u001b[0;31mValueError\u001b[0m: cannot reshape array of size 0 into shape (0,newaxis)"
     ]
    }
   ],
   "source": [
    "#bag = rosbag.Bag(\"/home/xuhao/bags/dl_data/swarm_dl_one_ground_2019-08-18-05-52-01.bag\")\n",
    "bag = rosbag.Bag(\"/home/xuhao/bags/swarm_one_drone_reproject_2019-08-18-15-37-47.bag\")\n",
    "#bag = rosbag.Bag(\"/home/xuhao/bags/dl_data/swarm_dl_2drone_fly_2019-08-17-12-42-29.bag\")\n",
    "#bag = rosbag.Bag(\"/media/xuhao/Swarm/swarm_bags/swarm_dl_2drone_fly_2019-08-17-12-42-29.orig.bag\")\n",
    "#bag = rosbag.Bag(\"/home/xuhao/bags/dl_data/swarm_dl_four_drones_2019-08-14-07-49-37.bag\")\n",
    "poses, camera, depths = read_bag(bag)\n",
    "dp2 = parse_ros_pose_ts(poses[2])\n",
    "dp4 = parse_ros_pose_ts(poses[4])"
   ]
  },
  {
   "cell_type": "code",
   "execution_count": 58,
   "metadata": {},
   "outputs": [],
   "source": []
  },
  {
   "cell_type": "code",
   "execution_count": 6,
   "metadata": {},
   "outputs": [
    {
     "name": "stdout",
     "output_type": "stream",
     "text": [
      "[INFO] [1566322700.473758]: Detection use time 9.037971ms\n",
      "[INFO] [1566322700.481925]: Total use time 19.572020ms\n",
      "[INFO] [1566322701.484733]: Detection use time 7.215023ms\n",
      "[INFO] [1566322701.488390]: Total use time 14.034033ms\n",
      "[INFO] [1566322702.530072]: Detection use time 7.158995ms\n",
      "[INFO] [1566322702.534381]: Total use time 14.616966ms\n",
      "[INFO] [1566322703.563088]: Detection use time 7.094145ms\n",
      "[INFO] [1566322703.566900]: Total use time 13.918877ms\n",
      "TRACKER 449 failed\n",
      "[INFO] [1566322704.597875]: Detection use time 8.278131ms\n",
      "[INFO] [1566322704.605197]: Total use time 19.742012ms\n",
      "TRACKER 708 failed\n",
      "[INFO] [1566322705.608878]: Detection use time 6.664038ms\n",
      "[INFO] [1566322705.610671]: Total use time 12.807846ms\n",
      "[INFO] [1566322706.656729]: Detection use time 7.973194ms\n",
      "[INFO] [1566322706.663676]: Total use time 17.950058ms\n",
      "[INFO] [1566322707.694190]: Detection use time 5.970955ms\n",
      "[INFO] [1566322707.695688]: Total use time 10.627985ms\n",
      "[INFO] [1566322708.729536]: Detection use time 6.318808ms\n",
      "[INFO] [1566322708.731344]: Total use time 11.408806ms\n",
      "[INFO] [1566322709.739936]: Detection use time 5.841017ms\n",
      "[INFO] [1566322709.741710]: Total use time 11.327028ms\n",
      "TRACKER 912 failed\n",
      "[INFO] [1566322710.794825]: Detection use time 6.772995ms\n",
      "[INFO] [1566322710.796450]: Total use time 12.565851ms\n",
      "[INFO] [1566322711.829192]: Detection use time 6.761074ms\n",
      "[INFO] [1566322711.831704]: Total use time 15.695095ms\n",
      "TRACKER 912 failed\n",
      "TRACKER 333 failed\n",
      "[INFO] [1566322712.832414]: Detection use time 6.479979ms\n",
      "[INFO] [1566322712.833748]: Total use time 13.994932ms\n",
      "[INFO] [1566322713.849106]: Detection use time 6.747961ms\n",
      "[INFO] [1566322713.850957]: Total use time 14.707088ms\n",
      "TRACKER 708 failed\n",
      "[INFO] [1566322714.906494]: Detection use time 6.569147ms\n",
      "[INFO] [1566322714.909116]: Total use time 14.229059ms\n",
      "[INFO] [1566322715.930066]: Detection use time 6.819963ms\n",
      "[INFO] [1566322715.931721]: Total use time 14.698982ms\n",
      "[INFO] [1566322716.967679]: Detection use time 7.272005ms\n",
      "[INFO] [1566322716.971328]: Total use time 16.893864ms\n",
      "TRACKER 333 failed\n",
      "TRACKER 275 failed\n",
      "TRACKER 905 failed\n",
      "[INFO] [1566322717.985083]: Detection use time 6.834030ms\n",
      "[INFO] [1566322717.986722]: Total use time 12.377977ms\n",
      "TRACKER 791 failed\n",
      "TRACKER 791 failed\n",
      "TRACKER 791 failed\n",
      "[INFO] [1566322719.013225]: Detection use time 6.261110ms\n",
      "[INFO] [1566322719.014862]: Total use time 11.271954ms\n",
      "TRACKER 791 failed\n",
      "[INFO] [1566322720.032017]: Detection use time 6.574869ms\n",
      "[INFO] [1566322720.033599]: Total use time 11.175156ms\n",
      "TRACKER 953 failed\n",
      "[INFO] [1566322721.047304]: Detection use time 6.506920ms\n",
      "[INFO] [1566322721.048904]: Total use time 11.960030ms\n",
      "[INFO] [1566322722.054447]: Detection use time 7.277966ms\n",
      "[INFO] [1566322722.068008]: Total use time 27.179956ms\n",
      "TRACKER 791 failed\n",
      "[INFO] [1566322723.063252]: Detection use time 6.707907ms\n",
      "[INFO] [1566322723.128775]: Total use time 13.647795ms\n",
      "[INFO] [1566322724.070169]: Detection use time 6.933928ms\n",
      "[INFO] [1566322724.136398]: Total use time 13.884068ms\n",
      "[INFO] [1566322725.087303]: Detection use time 6.520987ms\n",
      "[INFO] [1566322725.151685]: Total use time 13.583899ms\n",
      "[INFO] [1566322726.129098]: Detection use time 6.140947ms\n",
      "[INFO] [1566322726.190593]: Total use time 11.396885ms\n",
      "[INFO] [1566322727.158723]: Detection use time 6.659985ms\n"
     ]
    }
   ],
   "source": [
    "### index = 100\n",
    "sd = SwarmDetector(debug_show=\"cv\",conf_thres=0.9)\n",
    "step = 1\n",
    "err = []\n",
    "est_3d_poses = []\n",
    "\n",
    "gt_3d_poses = []\n",
    "\n",
    "start_index = 0\n",
    "for index in range(start_index, len(camera), step):\n",
    "#     print(index - start_index)\n",
    "    t_cam_on_drone = np.array([0.044, -0.035, 0.0])\n",
    "    R_cam_on_drone = np.array([[0, 0, 1],\n",
    "             [-1, 0, 0],\n",
    "             [0, -1, 0]])\n",
    "    \n",
    "    img_msg = camera[index]\n",
    "    _img  = sd.img_callback(img_msg, depths[index])\n",
    "    _img = cv2.resize(_img, (1280, 960))\n",
    "    cv2.putText(_img, \"FRAME {}\".format(index - start_index), (100, 40), cv2.FONT_HERSHEY_SIMPLEX,1, (200, 200, 200), 1, cv2.LINE_AA)\n",
    "    cv2.imshow(\"YOLO\", _img)\n",
    "    k = cv2.waitKey(10)\n",
    "    if k == ord('q'):\n",
    "        break\n",
    "    continue\n",
    "    \n",
    "    \n",
    "    if dposyolo_camframe is None:\n",
    "        continue\n",
    "    dposyolo_camframe =  dposyolo_camframe\n",
    "    pos4 = dp4[\"pos_func\"](img_msg.header.stamp.to_sec()) + np.array([0.053, -0.05, -0.075])\n",
    "    quat4 = dp4[\"quat_func\"](img_msg.header.stamp.to_sec())\n",
    "    quat2 = dp2[\"quat_func\"](img_msg.header.stamp.to_sec())\n",
    "    pos2 = dp2[\"pos_func\"](img_msg.header.stamp.to_sec()) + t_cam_on_drone\n",
    "    dpos_gt = pos4 - pos2 \n",
    "\n",
    "    r2 = quaternion_matrix(quat2)[0:3,0:3]\n",
    "    r2cam = np.dot(r2, R_cam_on_drone)\n",
    "    dposyolo_global = np.dot(r2cam, dposyolo_camframe)\n",
    "    dyolo_gt = dposyolo_global - dpos_gt\n",
    "    if math.fabs(dyolo_gt[0]) > 0.5 or math.fabs(dyolo_gt[1]) > 0.5 or math.fabs(dyolo_gt[2] > 0.5):\n",
    "        continue\n",
    "    err.append(dposyolo_global - dpos_gt)\n",
    "    est_3d_poses.append(dposyolo_global + pos2)\n",
    "    \n",
    "    \n",
    "\n",
    "cv2.destroyAllWindows()\n",
    "err = numpy.array(err)"
   ]
  },
  {
   "cell_type": "code",
   "execution_count": 71,
   "metadata": {},
   "outputs": [
    {
     "ename": "IndexError",
     "evalue": "too many indices for array",
     "output_type": "error",
     "traceback": [
      "\u001b[0;31m---------------------------------------------------------------------------\u001b[0m",
      "\u001b[0;31mIndexError\u001b[0m                                Traceback (most recent call last)",
      "\u001b[0;32m<ipython-input-71-216434c48290>\u001b[0m in \u001b[0;36m<module>\u001b[0;34m()\u001b[0m\n\u001b[1;32m      3\u001b[0m \u001b[0mplt\u001b[0m\u001b[0;34m.\u001b[0m\u001b[0mfigure\u001b[0m\u001b[0;34m(\u001b[0m\u001b[0;36m100\u001b[0m\u001b[0;34m,\u001b[0m \u001b[0mfigsize\u001b[0m\u001b[0;34m=\u001b[0m\u001b[0;34m(\u001b[0m\u001b[0;36m6\u001b[0m\u001b[0;34m,\u001b[0m \u001b[0;36m6\u001b[0m\u001b[0;34m)\u001b[0m\u001b[0;34m)\u001b[0m\u001b[0;34m\u001b[0m\u001b[0m\n\u001b[1;32m      4\u001b[0m \u001b[0mplt\u001b[0m\u001b[0;34m.\u001b[0m\u001b[0msubplot\u001b[0m\u001b[0;34m(\u001b[0m\u001b[0;36m131\u001b[0m\u001b[0;34m)\u001b[0m\u001b[0;34m\u001b[0m\u001b[0m\n\u001b[0;32m----> 5\u001b[0;31m \u001b[0mplt\u001b[0m\u001b[0;34m.\u001b[0m\u001b[0mhist\u001b[0m\u001b[0;34m(\u001b[0m\u001b[0mest_3d_poses\u001b[0m\u001b[0;34m[\u001b[0m\u001b[0;34m:\u001b[0m\u001b[0;34m,\u001b[0m\u001b[0;36m0\u001b[0m\u001b[0;34m]\u001b[0m \u001b[0;34m-\u001b[0m \u001b[0mnp\u001b[0m\u001b[0;34m.\u001b[0m\u001b[0mmean\u001b[0m\u001b[0;34m(\u001b[0m\u001b[0mest_3d_poses\u001b[0m\u001b[0;34m[\u001b[0m\u001b[0;34m:\u001b[0m\u001b[0;34m,\u001b[0m\u001b[0;36m0\u001b[0m\u001b[0;34m]\u001b[0m\u001b[0;34m)\u001b[0m\u001b[0;34m,\u001b[0m \u001b[0mdensity\u001b[0m\u001b[0;34m=\u001b[0m\u001b[0mTrue\u001b[0m\u001b[0;34m,\u001b[0m \u001b[0mbins\u001b[0m\u001b[0;34m=\u001b[0m\u001b[0;36m30\u001b[0m\u001b[0;34m)\u001b[0m\u001b[0;34m\u001b[0m\u001b[0m\n\u001b[0m\u001b[1;32m      6\u001b[0m \u001b[0mplt\u001b[0m\u001b[0;34m.\u001b[0m\u001b[0mxlabel\u001b[0m\u001b[0;34m(\u001b[0m\u001b[0;34m\"EST X\"\u001b[0m\u001b[0;34m)\u001b[0m\u001b[0;34m\u001b[0m\u001b[0m\n\u001b[1;32m      7\u001b[0m \u001b[0mplt\u001b[0m\u001b[0;34m.\u001b[0m\u001b[0mgrid\u001b[0m\u001b[0;34m(\u001b[0m\u001b[0;34m)\u001b[0m\u001b[0;34m\u001b[0m\u001b[0m\n",
      "\u001b[0;31mIndexError\u001b[0m: too many indices for array"
     ]
    },
    {
     "data": {
      "image/png": "[encoded data removed]",
      "text/plain": [
       "<Figure size 432x432 with 1 Axes>"
      ]
     },
     "metadata": {
      "needs_background": "light"
     },
     "output_type": "display_data"
    }
   ],
   "source": [
    "err = np.array(err)\n",
    "est_3d_poses = np.array(est_3d_poses )\n",
    "plt.figure(100, figsize=(6, 6))\n",
    "plt.subplot(131)\n",
    "plt.hist(est_3d_poses[:,0] - np.mean(est_3d_poses[:,0]), density=True, bins=30)\n",
    "plt.xlabel(\"EST X\")\n",
    "plt.grid()\n",
    "\n",
    "plt.subplot(132)\n",
    "plt.hist(est_3d_poses[:,1] - np.mean(est_3d_poses[:,1]), density=True, bins=30)\n",
    "plt.xlabel(\"EST Y\")\n",
    "plt.grid()\n",
    "\n",
    "plt.subplot(133)\n",
    "plt.hist(est_3d_poses[:,2] - np.mean(est_3d_poses[:,2]), density=True, bins=30)\n",
    "plt.xlabel(\"EST Z\")\n",
    "plt.grid()\n",
    "plt.show()\n",
    "\n",
    "\n",
    "print(\"XYZ MEAN {:3.1f} {:3.1f} {:3.1f} cm RMSE {:3.1f} {:3.1f} {:3.1f}cm\".format(\n",
    "    np.mean(err[:,0])*100, \n",
    "    np.mean(err[:,1])*100, \n",
    "    np.mean(err[:,2])*100,\n",
    "    np.sqrt(np.mean((err[:,0])**2))*100,\n",
    "    np.sqrt(np.mean((err[:,1])**2))*100,\n",
    "    np.sqrt(np.mean((err[:,2])**2))*100))\n",
    "\n",
    "fig = plt.figure(figsize=(6, 6))\n",
    "ax = fig.add_subplot(111, projection='3d')\n",
    "ax.scatter(est_3d_poses[:,0], est_3d_poses[:,1], est_3d_poses[:,2], marker=\"^\")\n",
    "#[ 1.16626224, -0.21409655,  0.52796817]\n",
    "ax.set_xlim3d(0.5, 1.5)\n",
    "ax.set_ylim3d(-0.5, 0.)\n",
    "ax.set_zlim3d(0, 1)\n",
    "ax.set_xlabel(\"X\")\n",
    "ax.set_ylabel(\"Y\")\n",
    "ax.set_zlabel(\"Z\")\n"
   ]
  },
  {
   "cell_type": "code",
   "execution_count": null,
   "metadata": {},
   "outputs": [],
   "source": [
    "np.mean(est_3d_poses, axis=0)"
   ]
  },
  {
   "cell_type": "code",
   "execution_count": null,
   "metadata": {},
   "outputs": [],
   "source": [
    "math.sqrt(np.mean((err[:,0])**2))"
   ]
  },
  {
   "cell_type": "code",
   "execution_count": 50,
   "metadata": {},
   "outputs": [],
   "source": [
    "cv2.destroyAllWindows()"
   ]
  },
  {
   "cell_type": "code",
   "execution_count": 4,
   "metadata": {},
   "outputs": [],
   "source": [
    "mul_trackers = cv2.MultiTracker_create()"
   ]
  },
  {
   "cell_type": "code",
   "execution_count": 5,
   "metadata": {},
   "outputs": [],
   "source": [
    "mul_trackers.clear()"
   ]
  },
  {
   "cell_type": "code",
   "execution_count": null,
   "metadata": {},
   "outputs": [],
   "source": []
  }
 ],
 "metadata": {
  "kernelspec": {
   "display_name": "Python 2",
   "language": "python",
   "name": "python2"
  },
  "language_info": {
   "codemirror_mode": {
    "name": "ipython",
    "version": 2
   },
   "file_extension": ".py",
   "mimetype": "text/x-python",
   "name": "python",
   "nbconvert_exporter": "python",
   "pygments_lexer": "ipython2",
   "version": "2.7.16"
  }
 },
 "nbformat": 4,
 "nbformat_minor": 2
}
