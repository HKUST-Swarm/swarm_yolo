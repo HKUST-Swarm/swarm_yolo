{
 "cells": [
  {
   "cell_type": "code",
   "execution_count": 1,
   "metadata": {},
   "outputs": [],
   "source": [
    "%load_ext autoreload\n",
    "%autoreload 2\n",
    "import sys\n",
    "sys.path.append(\"./src\")"
   ]
  },
  {
   "cell_type": "code",
   "execution_count": 2,
   "metadata": {},
   "outputs": [],
   "source": [
    "from models import *\n",
    "import rosbag\n",
    "import torch\n",
    "from torch.utils.data import DataLoader\n",
    "from torchvision import datasets, transforms\n",
    "from torch.autograd import Variable\n",
    "from cv_bridge import CvBridge\n",
    "from torch2trt import torch2trt\n",
    "import cv2\n",
    "img_size = 416"
   ]
  },
  {
   "cell_type": "code",
   "execution_count": 3,
   "metadata": {},
   "outputs": [
    {
     "data": {
      "text/plain": [
       "<All keys matched successfully>"
      ]
     },
     "execution_count": 3,
     "metadata": {},
     "output_type": "execute_result"
    }
   ],
   "source": [
    "model_def=\"/home/xuhao/swarm_ws/src/swarm_yolo/config/yolov3-tiny-1class.cfg\"\n",
    "weights_path=\"/home/xuhao/swarm_ws/src/swarm_yolo/weights/yolov3-tiny_drone.pth\"\n",
    "device = torch.device(\"cuda\" if torch.cuda.is_available() else \"cpu\")\n",
    "model = Darknet(model_def, img_size=img_size).to(device)\n",
    "model_backbone = DarknetBackbone(model_def, img_size=img_size).to(device)\n",
    "model_end = DarknetEnd(model_def, img_size=img_size).to(device)\n",
    "model_backbone.load_state_dict(torch.load(weights_path))\n",
    "model_end.load_state_dict(torch.load(weights_path))\n",
    "model.load_state_dict(torch.load(weights_path))"
   ]
  },
  {
   "cell_type": "code",
   "execution_count": 4,
   "metadata": {},
   "outputs": [],
   "source": [
    "bag = rosbag.Bag(\"/home/xuhao/bags/swarm_one_drone_reproject_2019-08-18-15-37-47.bag\")\n",
    "for topic, msg, t in bag.read_messages(topics=[\"/camera/infra1/image_rect_raw\", \"/camera/depth/image_rect_raw\"]):\n",
    "    if topic == \"/camera/infra1/image_rect_raw\":\n",
    "        cam_msg = msg\n",
    "        break\n",
    "img_gray = CvBridge().imgmsg_to_cv2(cam_msg, \"mono8\")\n",
    "img_ = cv2.cvtColor(img_gray, cv2.COLOR_GRAY2BGR)\n",
    "loader = transforms.Compose([\n",
    "    transforms.ToTensor(),\n",
    "])\n",
    "\n",
    "\n",
    "img_size = 416\n",
    "img_ = cv2.resize(img_ , (img_size, img_size))\n",
    "\n",
    "image = loader(img_).cuda()"
   ]
  },
  {
   "cell_type": "code",
   "execution_count": 5,
   "metadata": {},
   "outputs": [],
   "source": [
    "xs = model(image.unsqueeze(0))"
   ]
  },
  {
   "cell_type": "code",
   "execution_count": 6,
   "metadata": {},
   "outputs": [
    {
     "ename": "RuntimeError",
     "evalue": "The size of tensor a (13) must match the size of tensor b (6) at non-singleton dimension 3",
     "output_type": "error",
     "traceback": [
      "\u001b[0;31m---------------------------------------------------------------------------\u001b[0m",
      "\u001b[0;31mRuntimeError\u001b[0m                              Traceback (most recent call last)",
      "\u001b[0;32m<ipython-input-6-e4458cabfb5d>\u001b[0m in \u001b[0;36m<module>\u001b[0;34m()\u001b[0m\n\u001b[1;32m      1\u001b[0m \u001b[0mx\u001b[0m\u001b[0;34m,\u001b[0m \u001b[0mx8\u001b[0m \u001b[0;34m=\u001b[0m \u001b[0mmodel_backbone\u001b[0m\u001b[0;34m(\u001b[0m\u001b[0mimage\u001b[0m\u001b[0;34m.\u001b[0m\u001b[0munsqueeze\u001b[0m\u001b[0;34m(\u001b[0m\u001b[0;36m0\u001b[0m\u001b[0;34m)\u001b[0m\u001b[0;34m)\u001b[0m\u001b[0;34m\u001b[0m\u001b[0m\n\u001b[1;32m      2\u001b[0m \u001b[0mxn\u001b[0m \u001b[0;34m=\u001b[0m \u001b[0mmodel_end\u001b[0m\u001b[0;34m(\u001b[0m\u001b[0mx\u001b[0m\u001b[0;34m,\u001b[0m \u001b[0mx8\u001b[0m\u001b[0;34m)\u001b[0m\u001b[0;34m\u001b[0m\u001b[0m\n\u001b[0;32m----> 3\u001b[0;31m \u001b[0;32mprint\u001b[0m\u001b[0;34m(\u001b[0m\u001b[0mtorch\u001b[0m\u001b[0;34m.\u001b[0m\u001b[0mmax\u001b[0m\u001b[0;34m(\u001b[0m\u001b[0mxn\u001b[0m \u001b[0;34m-\u001b[0m \u001b[0mxs\u001b[0m\u001b[0;34m)\u001b[0m\u001b[0;34m)\u001b[0m\u001b[0;34m\u001b[0m\u001b[0m\n\u001b[0m",
      "\u001b[0;31mRuntimeError\u001b[0m: The size of tensor a (13) must match the size of tensor b (6) at non-singleton dimension 3"
     ]
    }
   ],
   "source": [
    "x, x8 = model_backbone(image.unsqueeze(0))\n",
    "xn = model_end(x, x8)\n",
    "print(torch.max(xn - xs))"
   ]
  },
  {
   "cell_type": "code",
   "execution_count": null,
   "metadata": {},
   "outputs": [],
   "source": []
  },
  {
   "cell_type": "code",
   "execution_count": 7,
   "metadata": {},
   "outputs": [
    {
     "name": "stdout",
     "output_type": "stream",
     "text": [
      "Staring conversion...\n",
      "Conversiong done\n",
      "0.011625528\n",
      "0.0069345757\n",
      "0.12612152\n"
     ]
    }
   ],
   "source": [
    "model_backbone = DarknetBackbone(model_def, img_size=img_size).to(device)\n",
    "model_backbone.load_state_dict(torch.load(weights_path))\n",
    "x, x8 = model_backbone(image.unsqueeze(0))\n",
    "xn = model_end(x, x8)\n",
    "print(\"Staring conversion...\")\n",
    "model_trt = torch2trt(model_backbone, [image.unsqueeze(0)], fp16_mode=True)\n",
    "print(\"Conversiong done\")\n",
    "x2, x82 = model_trt(image.unsqueeze(0))\n",
    "xn2 = model_end(x2, x82)\n",
    "\n",
    "print(torch.max(x - x2).cpu().detach().numpy())\n",
    "print(torch.max(x8 - x82).cpu().detach().numpy())\n",
    "print(torch.max(xn - xn2).cpu().detach().numpy())\n"
   ]
  },
  {
   "cell_type": "code",
   "execution_count": 12,
   "metadata": {},
   "outputs": [
    {
     "name": "stdout",
     "output_type": "stream",
     "text": [
      "Depth 1 err 0.00194689002819\n",
      "Depth 2 err 0.00279096676968\n",
      "Depth 3 err 1.9198136215e-05\n",
      "Depth 4 err 4.56115158158e-05\n",
      "Depth 5 err 5.9220528783e-06\n",
      "Depth 6 err 3.17524500133e-05\n",
      "Depth 7 err 2.76297168966e-06\n",
      "Depth 8 err 2.4102295356e-05\n",
      "Depth 9 err 1.01744180938e-05\n",
      "Depth 10 err 3.84571540053e-05\n",
      "Depth 11 err -9.01720341062e-06\n",
      "Depth 12 err 3.81064855901e-05\n",
      "Depth 13 err 2.09116751648e-05\n",
      "Depth 14 err 2.78874958894e-05\n",
      "Depth 15 err -0.000155841858941\n",
      "Depth 16 err 0.00244914600626\n"
     ]
    }
   ],
   "source": [
    "arr = []\n",
    "arr_depth = []\n",
    "for i in range(1, 17):\n",
    "    model_backbone = DarknetBackbone(model_def, img_size=img_size, depth=i).to(device)\n",
    "    model_backbone.load_state_dict(torch.load(weights_path))\n",
    "    arr_depth.append(i)\n",
    "    x = model_backbone(image.unsqueeze(0))\n",
    "    model_trt = torch2trt(model_backbone, [image.unsqueeze(0)], fp16_mode=True)\n",
    "    x2 = model_trt(image.unsqueeze(0))\n",
    "    err = torch.mean(x-x2).cpu().detach().numpy()\n",
    "    print(\"Depth {} err {}\".format(i, err))\n",
    "    arr.append(err)\n",
    "\n",
    "    "
   ]
  },
  {
   "cell_type": "code",
   "execution_count": 7,
   "metadata": {},
   "outputs": [
    {
     "data": {
      "text/plain": [
       "Text(0.5,1,'Err between Torch and TensorRT')"
      ]
     },
     "execution_count": 7,
     "metadata": {},
     "output_type": "execute_result"
    },
    {
     "data": {
      "image/png": "[encoded data removed]",
      "text/plain": [
       "<Figure size 720x720 with 1 Axes>"
      ]
     },
     "metadata": {
      "needs_background": "light"
     },
     "output_type": "display_data"
    }
   ],
   "source": [
    "plt.figure(0, figsize=(10,10))\n",
    "plt.plot(arr_depth[3:], arr[3:])\n",
    "plt.xlabel(\"Depth\")\n",
    "plt.ylabel(\"Err\")\n",
    "plt.grid()\n",
    "plt.title(\"Err between Torch and TensorRT\")\n"
   ]
  },
  {
   "cell_type": "code",
   "execution_count": 10,
   "metadata": {},
   "outputs": [
    {
     "data": {
      "text/plain": [
       "16"
      ]
     },
     "execution_count": 10,
     "metadata": {},
     "output_type": "execute_result"
    }
   ],
   "source": [
    "arr_depth[15]"
   ]
  },
  {
   "cell_type": "code",
   "execution_count": 14,
   "metadata": {},
   "outputs": [
    {
     "data": {
      "text/plain": [
       "2"
      ]
     },
     "execution_count": 14,
     "metadata": {},
     "output_type": "execute_result"
    }
   ],
   "source": [
    "[0, 1, 2][0:2]\n",
    "[0, 1, 2][2]"
   ]
  },
  {
   "cell_type": "code",
   "execution_count": null,
   "metadata": {},
   "outputs": [],
   "source": []
  }
 ],
 "metadata": {
  "kernelspec": {
   "display_name": "Python 2",
   "language": "python",
   "name": "python2"
  },
  "language_info": {
   "codemirror_mode": {
    "name": "ipython",
    "version": 2
   },
   "file_extension": ".py",
   "mimetype": "text/x-python",
   "name": "python",
   "nbconvert_exporter": "python",
   "pygments_lexer": "ipython2",
   "version": "2.7.16"
  }
 },
 "nbformat": 4,
 "nbformat_minor": 2
}
