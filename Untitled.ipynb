{
 "cells": [
  {
   "cell_type": "code",
   "execution_count": 1,
   "metadata": {},
   "outputs": [],
   "source": [
    "%load_ext autoreload\n",
    "%autoreload 2\n"
   ]
  },
  {
   "cell_type": "code",
   "execution_count": 4,
   "metadata": {},
   "outputs": [],
   "source": [
    "from models import *\n",
    "import rosbag\n",
    "import torch\n",
    "from torch.utils.data import DataLoader\n",
    "from torchvision import datasets, transforms\n",
    "from torch.autograd import Variable\n",
    "from cv_bridge import CvBridge\n",
    "import cv2\n",
    "img_size = 416"
   ]
  },
  {
   "cell_type": "code",
   "execution_count": 5,
   "metadata": {},
   "outputs": [
    {
     "data": {
      "text/plain": [
       "<All keys matched successfully>"
      ]
     },
     "execution_count": 5,
     "metadata": {},
     "output_type": "execute_result"
    }
   ],
   "source": [
    "model_def=\"/home/xuhao/swarm_ws/src/swarm_yolo/config/yolov3-tiny-1class.cfg\"\n",
    "weights_path=\"/home/xuhao/swarm_ws/src/swarm_yolo/weights/yolov3-tiny_drone.pth\"\n",
    "device = torch.device(\"cuda\" if torch.cuda.is_available() else \"cpu\")\n",
    "model = Darknet(model_def, img_size=img_size).to(device)\n",
    "model_backbone = DarknetBackbone(model_def, img_size=img_size).to(device)\n",
    "model_end = DarknetEnd(model_def, img_size=img_size).to(device)\n",
    "model_backbone.load_state_dict(torch.load(weights_path))\n",
    "model_end.load_state_dict(torch.load(weights_path))\n",
    "model.load_state_dict(torch.load(weights_path))"
   ]
  },
  {
   "cell_type": "code",
   "execution_count": 6,
   "metadata": {},
   "outputs": [],
   "source": [
    "bag = rosbag.Bag(\"/home/xuhao/bags/swarm_one_drone_reproject_2019-08-18-15-37-47.bag\")\n",
    "for topic, msg, t in bag.read_messages(topics=[\"/camera/infra1/image_rect_raw\", \"/camera/depth/image_rect_raw\"]):\n",
    "    if topic == \"/camera/infra1/image_rect_raw\":\n",
    "        cam_msg = msg\n",
    "        break\n",
    "img_gray = CvBridge().imgmsg_to_cv2(cam_msg, \"mono8\")\n",
    "img_ = cv2.cvtColor(img_gray, cv2.COLOR_GRAY2BGR)\n",
    "loader = transforms.Compose([\n",
    "    transforms.ToTensor(),\n",
    "])\n",
    "\n",
    "\n",
    "img_size = 416\n",
    "img_ = cv2.resize(img_ , (img_size, img_size))\n",
    "\n",
    "image = loader(img_).cuda()"
   ]
  },
  {
   "cell_type": "code",
   "execution_count": 12,
   "metadata": {},
   "outputs": [],
   "source": [
    "xs = model(image.unsqueeze(0))"
   ]
  },
  {
   "cell_type": "code",
   "execution_count": 13,
   "metadata": {},
   "outputs": [
    {
     "name": "stdout",
     "output_type": "stream",
     "text": [
      "(0, torch.Size([1, 16, 416, 416]))\n",
      "(1, torch.Size([1, 16, 208, 208]))\n",
      "(2, torch.Size([1, 32, 208, 208]))\n",
      "(3, torch.Size([1, 32, 104, 104]))\n",
      "(4, torch.Size([1, 64, 104, 104]))\n",
      "(5, torch.Size([1, 64, 52, 52]))\n",
      "(6, torch.Size([1, 128, 52, 52]))\n",
      "(7, torch.Size([1, 128, 26, 26]))\n",
      "(8, torch.Size([1, 256, 26, 26]))\n",
      "(9, torch.Size([1, 256, 13, 13]))\n",
      "(10, torch.Size([1, 512, 13, 13]))\n",
      "(11, torch.Size([1, 512, 13, 13]))\n",
      "(12, torch.Size([1, 1024, 13, 13]))\n",
      "(13, torch.Size([1, 256, 13, 13]))\n",
      "(14, torch.Size([1, 512, 13, 13]))\n",
      "(15, torch.Size([1, 18, 13, 13]))\n"
     ]
    }
   ],
   "source": [
    "x, x8, x13 = model_backbone(image.unsqueeze(0))\n",
    "xn = model_end(x, x8, x13)"
   ]
  },
  {
   "cell_type": "code",
   "execution_count": 15,
   "metadata": {},
   "outputs": [
    {
     "data": {
      "text/plain": [
       "tensor([[[0., 0., 0., 0., 0., 0.],\n",
       "         [0., 0., 0., 0., 0., 0.],\n",
       "         [0., 0., 0., 0., 0., 0.],\n",
       "         ...,\n",
       "         [0., 0., 0., 0., 0., 0.],\n",
       "         [0., 0., 0., 0., 0., 0.],\n",
       "         [0., 0., 0., 0., 0., 0.]]])"
      ]
     },
     "execution_count": 15,
     "metadata": {},
     "output_type": "execute_result"
    }
   ],
   "source": [
    "xs - xn"
   ]
  }
 ],
 "metadata": {
  "kernelspec": {
   "display_name": "Python 2",
   "language": "python",
   "name": "python2"
  },
  "language_info": {
   "codemirror_mode": {
    "name": "ipython",
    "version": 2
   },
   "file_extension": ".py",
   "mimetype": "text/x-python",
   "name": "python",
   "nbconvert_exporter": "python",
   "pygments_lexer": "ipython2",
   "version": "2.7.16"
  }
 },
 "nbformat": 4,
 "nbformat_minor": 2
}
